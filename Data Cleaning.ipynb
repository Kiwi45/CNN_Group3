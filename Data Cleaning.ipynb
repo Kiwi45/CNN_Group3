{
 "cells": [
  {
   "cell_type": "code",
   "execution_count": null,
   "metadata": {},
   "outputs": [],
   "source": [
    "train = pd.read_csv(\"train_states.csv\",low_memory=False) # Import the data"
   ]
  },
  {
   "cell_type": "code",
   "execution_count": null,
   "metadata": {},
   "outputs": [],
   "source": [
    "print(train.shape)\n",
    "train = train.drop_duplicates()\n",
    "print(train.shape) #no duplicates\n",
    "\n",
    "# The problem is that not all stores have full data available\n",
    "\n",
    "#this shows how many stores have data available to all the dates\n",
    "np.sum(train.groupby('Store')['DayOfWeek'].count() != 942) \n",
    "#for simplification, let us delete all the stores with incomplete data\n",
    "#first find out, which store these are\n",
    "indices = np.where((train.groupby('Store')['DayOfWeek'].count() != 942) == True)\n",
    "indices = list(indices) #tuple needs to be converted to list\n",
    "#caution, previous fct. counts from 0, so to get store number we need to add 1\n",
    "indices = [x+1 for x in indices]\n",
    "#we need to simplify list containing one array into array\n",
    "indices = [item for sublist in indices for item in sublist]\n",
    "\n",
    "#And we can finally filter only the complete stores\n",
    "train = train[~train['Store'].isin(indices)] #the wave is a negation sign"
   ]
  },
  {
   "cell_type": "code",
   "execution_count": null,
   "metadata": {},
   "outputs": [],
   "source": [
    "train = train.sort_values(by=['Store','Date']) #sort by store and date\n",
    "len(train[train['Store'] == 1]) #942 dates"
   ]
  },
  {
   "cell_type": "code",
   "execution_count": null,
   "metadata": {},
   "outputs": [],
   "source": [
    "#Delete unimportant variables\n",
    "train = train.drop\\\n",
    "        (['is_month_start','is_month_end','is_quarter_start','is_quarter_end','State', #same for all the images\n",
    "          'week_of_year', #partially identifiable by other variables\n",
    "          'day_of_year', #identifiable by other variables       \n",
    "         'day'], axis = 1) #day is partially already in the time dimension"
   ]
  },
  {
   "cell_type": "code",
   "execution_count": null,
   "metadata": {},
   "outputs": [],
   "source": [
    "def dummify(data,data_and_column,prefix):\n",
    "    dummies = pd.get_dummies(data_and_column, prefix=prefix).iloc[:,1:] #creates dummy variables (12-1 dummy variables with Month_1 as default)\n",
    "    dataframe = pd.concat([data,dummies], axis = 1)\n",
    "    return dataframe\n",
    "#dummies\n",
    "#train\n",
    "train = dummify(train,train.DayOfWeek,'DayOfWeek')\n",
    "train = train.drop('DayOfWeek', axis = 1)\n",
    "train = dummify(train,train.StateHoliday,'StateHoliday')\n",
    "train = train.drop('StateHoliday', axis = 1)\n",
    "train = dummify(train,train.quarter,'Q')  #quarter will also be delete, but later\n",
    "train = train.drop('quarter', axis = 1)\n",
    "#we will first change month into months of the quarter \n",
    "#(as we will be using quarters later)\n",
    "#NOT A NICE CHUNK OF CODE\n",
    "train.month = [1 if e == 4  else e for e in train.month]\n",
    "train.month = [1 if e == 7  else e for e in train.month]\n",
    "train.month = [1 if e == 10 else e for e in train.month]\n",
    "train.month = [2 if e == 5  else e for e in train.month]\n",
    "train.month = [2 if e == 8  else e for e in train.month]\n",
    "train.month = [2 if e == 11 else e for e in train.month]\n",
    "train.month = [3 if e == 6  else e for e in train.month]\n",
    "train.month = [3 if e == 9  else e for e in train.month]\n",
    "train.month = [3 if e == 12 else e for e in train.month]\n",
    "train = dummify(train,train.month,'month')\n",
    "train = train.drop('month', axis = 1)\n",
    "#train = train.drop('Date', axis = 1) we need Date for reshaping\n",
    "train['Date'] = train['Date'].str.replace(\"-\",\"\").astype(int) #convert date to numeric"
   ]
  },
  {
   "cell_type": "code",
   "execution_count": null,
   "metadata": {},
   "outputs": [],
   "source": [
    "column_names = pd.DataFrame(list(train))\n",
    "column_names = column_names.transpose()\n",
    "np.savetxt(\"column_names.csv\",column_names,fmt=\"%s\",delimiter=\",\")\n",
    "#ok now i have a ordered table with the whole time series with each store having 942 rows (days) and 23 variables\n",
    "#after complete info about first store (942 rows), the second store follows, and so on\n",
    "#now I need 90 days time series, with 91th day as the label and then move it by 1 day"
   ]
  }
 ],
 "metadata": {
  "kernelspec": {
   "display_name": "Python 3",
   "language": "python",
   "name": "python3"
  },
  "language_info": {
   "codemirror_mode": {
    "name": "ipython",
    "version": 3
   },
   "file_extension": ".py",
   "mimetype": "text/x-python",
   "name": "python",
   "nbconvert_exporter": "python",
   "pygments_lexer": "ipython3",
   "version": "3.7.0"
  }
 },
 "nbformat": 4,
 "nbformat_minor": 2
}
