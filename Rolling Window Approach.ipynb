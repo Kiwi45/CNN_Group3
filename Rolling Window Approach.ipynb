{
 "cells": [
  {
   "cell_type": "code",
   "execution_count": null,
   "metadata": {},
   "outputs": [],
   "source": [
    "timeseries = np.empty([852*90*500,23]) #852, so that last series goes from index 851 to 940 and we have a label on index 941\n",
    "labels = np.empty([852*500,0])\n",
    "    \n",
    "for store in range (0,500): #934\n",
    "    for i in range (0,852): #for number of stores - 942 because Python does not index the last number\n",
    "        timeseries[(76680-942)*store+942*store+90*i:(76680-942)*store+942*store+90*i+90,22] = i #to track which ts it it\n",
    "        timeseries[(76680-942)*store+942*store+90*i:(76680-942)*store+942*store+90*i+90,0:22] = train.iloc[942*store+i:942*store+i+90,:].copy()\n",
    "        labels[852*store+i] = train.iloc[942*store+i+90,1].copy()\n",
    "    print(store)\n",
    "    \n",
    "    \n",
    "    "
   ]
  },
  {
   "cell_type": "code",
   "execution_count": null,
   "metadata": {},
   "outputs": [],
   "source": [
    "timeseries = pd.DataFrame(timeseries)\n",
    "print(\"ok1\")\n",
    "labels = pd.DataFrame(labels)\n",
    "np.savetxt(\"labels1.csv\",labels,delimiter=\",\")\n",
    "np.savetxt(\"timeseries1.csv\",timeseries,delimiter=\",\")\n",
    "print(\"ok save\")"
   ]
  },
  {
   "cell_type": "code",
   "execution_count": null,
   "metadata": {},
   "outputs": [],
   "source": [
    "timeseries1 = pd.read_csv(\"timeseries1.csv\",low_memory=True,header=None)\n",
    "column_names = pd.read_csv(\"column_names.csv\",header=None)\n",
    "column_names[22] = \"ts\" #index for timeseries needs to be traced for later reshaping\n",
    "timeseries1.columns = column_names.iloc[0,:]\n",
    "print(\"data loaded\")\n",
    "\n",
    "#function which reshapes the data so that each row is one timeseries and columns features for each day\n",
    "def data_prepare(dataset,ts_number):\n",
    "    dataset = dataset.set_index(['Store','ts','Date'])\n",
    "    dataset_reshaped = pd.DataFrame(dataset.values.reshape((ts_number,19*90)))\n",
    "    return dataset_reshaped\n",
    "\n",
    "print(\"function loaded\")\n",
    "\n",
    "data = data_prepare(timeseries1,426000)\n",
    "print(\"data prepared\")\n",
    "\n",
    "np.savetxt(\"final_data1.csv\",data,delimiter=\",\")\n",
    "print(\"file saved\")"
   ]
  }
 ],
 "metadata": {
  "kernelspec": {
   "display_name": "Python 3",
   "language": "python",
   "name": "python3"
  },
  "language_info": {
   "codemirror_mode": {
    "name": "ipython",
    "version": 3
   },
   "file_extension": ".py",
   "mimetype": "text/x-python",
   "name": "python",
   "nbconvert_exporter": "python",
   "pygments_lexer": "ipython3",
   "version": "3.7.0"
  }
 },
 "nbformat": 4,
 "nbformat_minor": 2
}
