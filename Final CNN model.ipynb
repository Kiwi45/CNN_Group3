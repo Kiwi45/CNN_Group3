{
 "cells": [
  {
   "cell_type": "code",
   "execution_count": null,
   "metadata": {},
   "outputs": [],
   "source": [
    "#Data Loading\n",
    "x_train = pd.read_csv(\"train_data.csv\",sep = \",\",header=None)\n",
    "print(\"x_train loaded\")\n",
    "x_train = x_train.values.reshape(383400,90,20,1) #one last reshaping is needed - the 4D tensor is created\n",
    "print(\"x_train reshaped\")\n",
    "y_train = pd.read_csv(\"train_labels.csv\",sep = \",\",header=None)\n",
    "y_train = y_train.iloc[:,0]\n",
    "print(\"y_train loaded)\n",
    "\n",
    "x_test = pd.read_csv(\"test_data.csv\",sep = \",\",header=None)\n",
    "x_test = x_test.values.reshape(42600,90,20,1) \n",
    "print(\"x_test loaded\")\n",
    "y_test = pd.read_csv(\"test_labels.csv\",sep = \",\",header=None) \n",
    "y_test = y_test.iloc[:,0]\n",
    "print(\"y_test loaded\")"
   ]
  },
  {
   "cell_type": "code",
   "execution_count": null,
   "metadata": {},
   "outputs": [],
   "source": [
    "#create model\n",
    "#Basic variables to be used later\n",
    "batch_size = 500\n",
    "epochs = 50\n",
    "stop_patience = 10 #parameter of early stopping\n",
    "split = 0.2#validation split par\n",
    "base_units  = 300\n",
    "units = base_units\n",
    "#learning rate is default == 0.01\n",
    "random.seed(123)\n",
    "\n",
    "model = Sequential()\n",
    "model.add(Conv2D(units,                \n",
    "                 activation = 'relu',           #relu as activation - try also others \n",
    "                 kernel_initializer = 'normal', #how the weights should be initialized\n",
    "                 bias_initializer = 'zeros',    #self-explanatory\n",
    "                 kernel_size = (7,20),    #7 for one week\n",
    "                 padding = 'same',  \n",
    "                 strides = 1,              #how much the conv filter shifts\n",
    "                 input_shape = (90,20,1)))    #input_shape must be defined based on the input image\n",
    "              #strides can be added   \n",
    "\n",
    "model.add(Conv2D(units,                                     \n",
    "                 activation = 'relu',           #relu as activation \n",
    "                 kernel_initializer = 'normal', #how the weight should be initialized\n",
    "                 bias_initializer = 'zeros',    #self-explanatory\n",
    "                 kernel_size = (7,20), \n",
    "                 strides = 1,\n",
    "                 padding = 'same'))\n",
    "\n",
    "model.add(Flatten()) #transform data from the convolutional layer to format understandable for not conv layer\n",
    "model.add(Dense(1, activation = 'relu')) #the whole line (parameters) depends on what we are gonna model, needs to be set later"
   ]
  },
  {
   "cell_type": "code",
   "execution_count": null,
   "metadata": {},
   "outputs": [],
   "source": []
  }
 ],
 "metadata": {
  "kernelspec": {
   "display_name": "Python 3",
   "language": "python",
   "name": "python3"
  },
  "language_info": {
   "codemirror_mode": {
    "name": "ipython",
    "version": 3
   },
   "file_extension": ".py",
   "mimetype": "text/x-python",
   "name": "python",
   "nbconvert_exporter": "python",
   "pygments_lexer": "ipython3",
   "version": "3.7.0"
  }
 },
 "nbformat": 4,
 "nbformat_minor": 2
}
